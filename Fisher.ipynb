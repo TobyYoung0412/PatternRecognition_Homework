{
 "cells": [
  {
   "cell_type": "code",
   "execution_count": 1,
   "metadata": {},
   "outputs": [],
   "source": [
    "import numpy as np\n",
    "import matplotlib.pyplot as plt\n",
    "import numpy.random as rnd\n",
    "from numpy.linalg import cholesky\n",
    "%matplotlib inline"
   ]
  },
  {
   "cell_type": "code",
   "execution_count": 2,
   "metadata": {},
   "outputs": [],
   "source": [
    "def genData(M, N = 100):\n",
    "    rnd.seed(0)\n",
    "    Sigma = np.array([[1, 0], [0, 1]])\n",
    "    R = cholesky(Sigma)\n",
    "    \n",
    "    mu = np.array([[-M, 0]])\n",
    "    s1 = np.dot(np.random.randn(N, 2), R) + mu\n",
    "    mu = np.array([[M, 0]])\n",
    "    s2 = np.dot(np.random.randn(N, 2), R) + mu\n",
    "    \n",
    "    one = np.ones(s1.shape[0]).reshape(100,1)\n",
    "    \n",
    "    s1 = np.concatenate((s1, -1 * one), axis = 1)\n",
    "    s2 = np.concatenate((s2,  1 * one), axis = 1)\n",
    "    s_t = np.concatenate((s1, s2), axis=0)\n",
    "    s = np.concatenate((np.ones((s_t.shape[0],1)), s_t), axis=1)\n",
    "    \n",
    "    return s"
   ]
  },
  {
   "cell_type": "code",
   "execution_count": 3,
   "metadata": {},
   "outputs": [],
   "source": [
    "S = genData(2)\n",
    "# print(S[:3], S[-3:])"
   ]
  },
  {
   "cell_type": "code",
   "execution_count": 77,
   "metadata": {},
   "outputs": [],
   "source": [
    "def genPlt(S, w, plt):\n",
    "    y = np.linspace(-3,3)\n",
    "    x = (w[0] + w[2] * y)/w[1]\n",
    "\n",
    "    plt.plot(S[:101,1],S[:101,2],'+')\n",
    "    plt.plot(S[101:,1],S[101:,2],'o')\n",
    "    plt.plot(x,y)\n",
    "    \n",
    "    return plt"
   ]
  },
  {
   "cell_type": "code",
   "execution_count": 81,
   "metadata": {},
   "outputs": [],
   "source": [
    "def cal_cov_and_avg(samples):\n",
    "    \"\"\"\n",
    "    给定一个类别的数据，计算协方差矩阵和平均向量\n",
    "    :param samples: \n",
    "    :return: \n",
    "    \"\"\"\n",
    "    u1 = np.mean(samples, axis=0)\n",
    "    cov_m = np.zeros((samples.shape[1], samples.shape[1]))\n",
    "    for s in samples:\n",
    "        t = s - u1\n",
    "        cov_m += t * t.T\n",
    "    return cov_m, u1\n",
    "\n",
    "\n",
    "def fisher(c_1, c_2):\n",
    "    \"\"\"\n",
    "    fisher算法实现(请参考上面推导出来的公式，那个才是精华部分)\n",
    "    :param c_1: \n",
    "    :param c_2: \n",
    "    :return: \n",
    "    \"\"\"\n",
    "    cov_1, u1 = cal_cov_and_avg(c_1)\n",
    "    cov_2, u2 = cal_cov_and_avg(c_2)\n",
    "    s_w = cov_1 + cov_2\n",
    "#     u, s, v = np.linalg.svd(s_w)  # 奇异值分解\n",
    "#     s_w_inv = np.dot(np.dot(v.T, np.linalg.pinv(np.diag(s))), u.T)\n",
    "    s_w_inv = np.linalg.pinv(s_w)\n",
    "    return np.dot(s_w_inv, u1 - u2)"
   ]
  },
  {
   "cell_type": "code",
   "execution_count": 6,
   "metadata": {},
   "outputs": [],
   "source": [
    "#计算均值,要求输入数据为numpy的矩阵格式，行表示样本数，列表示特征    \n",
    "def meanX(data):\n",
    "    return np.mean(data, axis=0) #axis=0表示按照列来求均值，如果输入list,则axis=1\n",
    "\n",
    "#计算类内离散度矩阵子项si\n",
    "def compute_si(xi):\n",
    "    n = xi.shape[0]\n",
    "    ui = meanX(xi)\n",
    "    si = 0\n",
    "    for i in range(0, n):\n",
    "        si = si + ( xi[i, :] - ui).T * (xi[i, :] - ui )   \n",
    "    return si\n",
    "\n",
    "#计算类间离散度矩阵Sb\n",
    "def compute_Sb(x1, x2):\n",
    "    dataX=np.vstack((x1,x2))#合并样本   \n",
    "#     print(\"dataX:\", dataX)\n",
    "    #计算均值\n",
    "    u1=meanX(x1)\n",
    "    u2=meanX(x2)    \n",
    "    u=meanX(dataX) #所有样本的均值\n",
    "    Sb = (u-u1).T * (u-u1) + (u-u2).T * (u-u2)\n",
    "    return Sb\n",
    "    \n",
    "        \n",
    "def LDA(x1, x2):\n",
    "    #计算类内离散度矩阵Sw\n",
    "    s1 = compute_si(x1)\n",
    "    s2 = compute_si(x2)     \n",
    "    #Sw=(n1*s1+n2*s2)/(n1+n2)\n",
    "    Sw = s1 + s2\n",
    "    \n",
    "    #计算类间离散度矩阵Sb\n",
    "    #Sb=(n1*(m-m1).T*(m-m1)+n2*(m-m2).T*(m-m2))/(n1+n2)\n",
    "    Sb = compute_Sb(x1, x2)\n",
    "    \n",
    "    #求最大特征值对应的特征向量    \n",
    "    eig_value, vec = np.linalg.eig(np.mat(Sw).I*Sb)#特征值和特征向量\n",
    "    index_vec = np.argsort(-eig_value)#对eig_value从大到小排序，返回索引\n",
    "    eig_index = index_vec[:1] #取出最大的特征值的索引\n",
    "    w = vec[:, eig_index] #取出最大的特征值对应的特征向量\n",
    "    return w"
   ]
  },
  {
   "cell_type": "code",
   "execution_count": 82,
   "metadata": {
    "scrolled": false
   },
   "outputs": [
    {
     "data": {
      "image/png": "[encoded data removed]",
      "text/plain": [
       "<Figure size 432x288 with 1 Axes>"
      ]
     },
     "metadata": {
      "needs_background": "light"
     },
     "output_type": "display_data"
    },
    {
     "name": "stdout",
     "output_type": "stream",
     "text": [
      "[ 0.         -0.00318603 -0.00303943]\n"
     ]
    }
   ],
   "source": [
    "cov1, u1 = cal_cov_and_avg(S[:S.shape[0]//2, 1:-1])\n",
    "# print(cov1, '\\n\\n\\n\\n\\n', u1)\n",
    "cov2, u2 = cal_cov_and_avg(S[S.shape[0]//2:, 1:-1])\n",
    "# print(cov2, '\\n\\n\\n\\n\\n', u2)\n",
    "w = fisher(S[:S.shape[0]//2, :-1],S[S.shape[0]//2:, :-1])\n",
    "plt = genPlt(S, w, plt)\n",
    "plt.show()\n",
    "print(w)"
   ]
  },
  {
   "cell_type": "code",
   "execution_count": 83,
   "metadata": {},
   "outputs": [
    {
     "data": {
      "image/png": "[encoded data removed]",
      "text/plain": [
       "<Figure size 432x288 with 1 Axes>"
      ]
     },
     "metadata": {
      "needs_background": "light"
     },
     "output_type": "display_data"
    },
    {
     "data": {
      "text/plain": [
       "[[0.0], [-0.7235576317909402], [-0.6902639737644477]]"
      ]
     },
     "execution_count": 83,
     "metadata": {},
     "output_type": "execute_result"
    }
   ],
   "source": [
    "w2 = LDA(S[:S.shape[0]//2, :-1], S[S.shape[0]//2:, :-1])\n",
    "plt = genPlt(S, np.squeeze(np.asarray(w2)).flatten(), plt)\n",
    "# plt = genPlt(S, w2.tolist(), plt)\n",
    "plt.show()\n",
    "w2.tolist()"
   ]
  }
 ],
 "metadata": {
  "kernelspec": {
   "display_name": "Python 3",
   "language": "python",
   "name": "python3"
  },
  "language_info": {
   "codemirror_mode": {
    "name": "ipython",
    "version": 3
   },
   "file_extension": ".py",
   "mimetype": "text/x-python",
   "name": "python",
   "nbconvert_exporter": "python",
   "pygments_lexer": "ipython3",
   "version": "3.5.6"
  }
 },
 "nbformat": 4,
 "nbformat_minor": 2
}
