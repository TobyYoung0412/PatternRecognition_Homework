{
 "cells": [
  {
   "cell_type": "markdown",
   "metadata": {},
   "source": [
    "# SVM\n",
    ">由于python中包含二次优化算法的库安装较为麻烦,且大多数采用的SMO算法解决支持向量机训练过程中所产生优化问题的算法.但是在这次的试验中,采用GD的方法同样可以实现最大间隔。"
   ]
  },
  {
   "cell_type": "markdown",
   "metadata": {},
   "source": [
    "### 加载需要的库并读取数据"
   ]
  },
  {
   "cell_type": "code",
   "execution_count": 25,
   "metadata": {},
   "outputs": [
    {
     "data": {
      "text/plain": [
       "<Figure size 720x720 with 0 Axes>"
      ]
     },
     "execution_count": 25,
     "metadata": {},
     "output_type": "execute_result"
    },
    {
     "data": {
      "text/plain": [
       "<Figure size 720x720 with 0 Axes>"
      ]
     },
     "metadata": {},
     "output_type": "display_data"
    }
   ],
   "source": [
    "import numpy as np\n",
    "import matplotlib.pyplot as plt\n",
    "import numpy.random as rnd\n",
    "%matplotlib inline\n",
    "\n",
    "plt.figure(figsize=(10,10))"
   ]
  },
  {
   "cell_type": "code",
   "execution_count": 83,
   "metadata": {},
   "outputs": [
    {
     "name": "stdout",
     "output_type": "stream",
     "text": [
      "[[ 31.23 121.47]\n",
      " [ 30.27 120.16]\n",
      " [ 29.99 122.21]\n",
      " [ 29.87 121.55]\n",
      " [ 28.66 121.42]\n",
      " [ 27.99 120.7 ]\n",
      " [ 26.67 119.55]\n",
      " [ 26.07 119.3 ]\n",
      " [ 32.8  130.71]\n",
      " [ 33.59 130.4 ]\n",
      " [ 33.88 130.88]\n",
      " [ 34.39 132.46]\n",
      " [ 34.66 133.93]\n",
      " [ 34.69 135.2 ]\n",
      " [ 30.6  114.3 ]\n",
      " [ 39.9  116.33]\n",
      " [ 35.42 139.46]] \n",
      " [ 1.  1.  1.  1.  1.  1.  1.  1. -1. -1. -1. -1. -1. -1.  1.  1. -1.]\n",
      "[ 25.74 123.47] 0.0\n"
     ]
    }
   ],
   "source": [
    "X = np.loadtxt(\"cities.csv\", delimiter=',', skiprows=2, usecols=(1,2))\n",
    "Y = np.loadtxt(\"cities.csv\", delimiter=',', skiprows=2, usecols=(3))\n",
    "print(X,'\\n',Y)\n",
    "\n",
    "test_X = np.loadtxt(\"cities.csv\", delimiter=',', skiprows=1, usecols=(1,2))[0]\n",
    "test_Y = np.loadtxt(\"cities.csv\", delimiter=',', skiprows=1, usecols=(3))[0]\n",
    "print(test_X,test_Y)"
   ]
  },
  {
   "cell_type": "markdown",
   "metadata": {},
   "source": [
    "## 极大梯度下降法训练 LinearSVM"
   ]
  },
  {
   "cell_type": "code",
   "execution_count": 96,
   "metadata": {},
   "outputs": [],
   "source": [
    "def fit(x, y, c=1, lr=0.01, epoch=10000):\n",
    "    x, y = np.asarray(x, np.float32), np.asarray(y, np.float32)\n",
    "    w = np.zeros(x.shape[1])\n",
    "    b = 0.\n",
    "    for _ in range(epoch):\n",
    "        w *= 1 - lr\n",
    "        err = 1 - y * predict(x, w, b, True)\n",
    "        idx = np.argmax(err)\n",
    "        # 注意即使所有 x, y 都满足 w·x + b >= 1\n",
    "        # 由于损失里面有一个 w 的模长平方\n",
    "        # 所以仍然不能终止训练，只能截断当前的梯度下降\n",
    "        if err[idx] <= 0:\n",
    "            continue\n",
    "        delta = lr * c * y[idx]\n",
    "        w += delta * x[idx]\n",
    "        b += delta\n",
    "    return w,b\n",
    "\n",
    "def predict(x, w, b, raw=False):\n",
    "    x = np.asarray(x, np.float32)\n",
    "    y_pred = x.dot(w) + b\n",
    "    if raw:\n",
    "        return y_pred\n",
    "    return np.sign(y_pred).astype(np.float32)\n",
    "\n",
    "def genPltLine(w, b, plt):\n",
    "    x = np.linspace(-2, 2.5)\n",
    "    y = -(b + w[0] * x)/w[1]\n",
    "\n",
    "    plt.plot(x,y)\n",
    "    return plt"
   ]
  },
  {
   "cell_type": "code",
   "execution_count": 93,
   "metadata": {
    "scrolled": true
   },
   "outputs": [
    {
     "name": "stdout",
     "output_type": "stream",
     "text": [
      "-1.0\n",
      "[-0.30610427 -1.02292814] 6.659999999999902\n"
     ]
    }
   ],
   "source": [
    "w ,b = fit(X, Y)\n",
    "test_Y = predict(test_X, w, b)\n",
    "print(test_Y)\n",
    "print(w, b)"
   ]
  },
  {
   "cell_type": "code",
   "execution_count": 95,
   "metadata": {},
   "outputs": [
    {
     "data": {
      "image/png": "[encoded data removed]",
      "text/plain": [
       "<Figure size 432x288 with 1 Axes>"
      ]
     },
     "metadata": {
      "needs_background": "light"
     },
     "output_type": "display_data"
    }
   ],
   "source": [
    "plt.plot(X[Y == 1][:,1], X[Y == 1][:,0],'bo')\n",
    "plt.plot(X[Y == -1][:,1], X[Y == -1][:,0],'r*')\n",
    "plt = genPltLine(w, b, plt)\n",
    "plt.plot(test_X[1], test_X[0], 'ys')\n",
    "plt.xlim(110,150)\n",
    "plt.ylim(20,50)\n",
    "plt.show()"
   ]
  },
  {
   "cell_type": "code",
   "execution_count": 97,
   "metadata": {},
   "outputs": [
    {
     "name": "stdout",
     "output_type": "stream",
     "text": [
      "1.0\n"
     ]
    },
    {
     "data": {
      "image/png": "[encoded data removed]",
      "text/plain": [
       "<Figure size 432x288 with 1 Axes>"
      ]
     },
     "metadata": {
      "needs_background": "light"
     },
     "output_type": "display_data"
    }
   ],
   "source": [
    "x = X.copy()\n",
    "x -= X.mean(axis=0)\n",
    "x /= X.std(axis=0)\n",
    "_x = test_X.copy()\n",
    "_x -= X.mean(axis=0)\n",
    "_x /= X.std(axis=0)\n",
    "plt.plot(x[Y == 1][:,1], x[Y == 1][:,0],'bo')\n",
    "plt.plot(x[Y == -1][:,1], x[Y == -1][:,0],'r*')\n",
    "plt.plot(_x[1], _x[0], 'ys')\n",
    "\n",
    "\n",
    "w ,b = fit(x, Y)\n",
    "test_Y = predict(_x, w, b)\n",
    "\n",
    "print(test_Y)\n",
    "\n",
    "plt = genPltLine(w, b, plt)\n",
    "\n",
    "plt.xlim(-2,2.5)\n",
    "plt.ylim(-2,2.5)\n",
    "plt.show()\n",
    "\n",
    "\n"
   ]
  }
 ],
 "metadata": {
  "kernelspec": {
   "display_name": "Python 3",
   "language": "python",
   "name": "python3"
  },
  "language_info": {
   "codemirror_mode": {
    "name": "ipython",
    "version": 3
   },
   "file_extension": ".py",
   "mimetype": "text/x-python",
   "name": "python",
   "nbconvert_exporter": "python",
   "pygments_lexer": "ipython3",
   "version": "3.5.6"
  }
 },
 "nbformat": 4,
 "nbformat_minor": 2
}
