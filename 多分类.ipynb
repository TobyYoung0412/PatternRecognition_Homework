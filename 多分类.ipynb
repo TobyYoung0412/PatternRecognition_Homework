{
 "cells": [
  {
   "cell_type": "markdown",
   "metadata": {},
   "source": [
    "# 多分类"
   ]
  },
  {
   "cell_type": "code",
   "execution_count": 1,
   "metadata": {},
   "outputs": [],
   "source": [
    "import numpy as np\n",
    "import matplotlib.pyplot as plt\n",
    "import numpy.random as rnd\n",
    "from numpy.linalg import cholesky\n",
    "%matplotlib inline"
   ]
  },
  {
   "cell_type": "markdown",
   "metadata": {},
   "source": [
    "## 生成样本数据\n"
   ]
  },
  {
   "cell_type": "code",
   "execution_count": 31,
   "metadata": {},
   "outputs": [],
   "source": [
    "def genData(M, N = 100):\n",
    "    rnd.seed(0)\n",
    "    Sigma = np.array([[1, 0], [0, 1]])\n",
    "    R = cholesky(Sigma)\n",
    "    \n",
    "    mu = np.array([[M, 0]])\n",
    "    s = np.dot(np.random.randn(N, 2), R) + mu\n",
    "    \n",
    "    one = np.ones(s.shape[0]).reshape(100,1)\n",
    "    s = np.concatenate((s,  M * one), axis = 1)\n",
    "    \n",
    "    return s"
   ]
  },
  {
   "cell_type": "markdown",
   "metadata": {},
   "source": [
    "## 绘图函数"
   ]
  },
  {
   "cell_type": "code",
   "execution_count": 26,
   "metadata": {},
   "outputs": [],
   "source": [
    "def genPlt(S, w, style, plt):\n",
    "    y = np.linspace(-3,3)\n",
    "    x = (w[0] + w[2] * y)/w[1]\n",
    "\n",
    "    plt.plot(S[:,0],S[:,1],style)\n",
    "#     plt.plot(S[101:,0],S[101:,1],'o')\n",
    "    plt.plot(x,y)\n",
    "    \n",
    "    return plt"
   ]
  },
  {
   "cell_type": "markdown",
   "metadata": {},
   "source": [
    "## 感知器函数"
   ]
  },
  {
   "cell_type": "code",
   "execution_count": 4,
   "metadata": {},
   "outputs": [],
   "source": [
    "def PLA(T, wi):\n",
    "    \n",
    "    study_total = 100000 # 总训练次数\n",
    "    study_step  = 0.001  # 训练步长\n",
    "    w_total = 0          # w改变次数\n",
    "    \n",
    "    if(wi == 0):\n",
    "        w = np.zeros(T.shape[1])  # 初始化权重向量为0 [权重都从0开始]\n",
    "    else:\n",
    "        w = np.ones(T.shape[1])   # 初始化权重向量为1 [权重都从1开始]\n",
    "#     print(' W     X      W       B')\n",
    "    #训练study_total次\n",
    "    for study in range(study_total):\n",
    "        w_before = w    #训练前的w值\n",
    "        #训练\n",
    "        for t in range(T.shape[0]):\n",
    "            # 计算实际的y值，其期望值为T[0][2]\n",
    "            X = T[t][0:T.shape[1]-1]   #X的值\n",
    "            Y = T[t][T.shape[1]-1]     #期望值\n",
    "            distin = Y * (w[0] + np.dot(w[1:],X))\n",
    "            #print('sign:', np.sign((w[0] + np.dot(w[1:],X))), 'Y:', Y)\n",
    "            #判断X是否是误分类点\n",
    "            if distin <= 0:\n",
    "                # 根据误差优化w的值\n",
    "                w[1:] = w[1:] + study_step*Y*X\n",
    "                w[0]  = w[0] + study_step*Y\n",
    "#                 print('w',w_total,': x',t,w[0:w.shape[0]])\n",
    "                w_total = w_total + 1\n",
    "                flag = 0\n",
    "\n",
    "        #经过训练后w、b都不在变化，说明训练集中已没有误分类点，那么跳出循环\n",
    "        if w_before is w :\n",
    "            print('训练后，得到w:', w[0:w.shape[0]])\n",
    "            break        \n",
    "    return w"
   ]
  },
  {
   "cell_type": "code",
   "execution_count": 46,
   "metadata": {},
   "outputs": [
    {
     "name": "stdout",
     "output_type": "stream",
     "text": [
      "训练后，得到w: [-0.002      -0.00121106 -0.00105378]\n",
      "训练后，得到w: [ 0.001      -0.00555299  0.00065362]\n",
      "训练后，得到w: [ 0.001      -0.01055299  0.00065362]\n",
      "训练后，得到w: [-0.003      -0.00095851  0.00071718]\n",
      "训练后，得到w: [-0.001      -0.00676405 -0.00040016]\n",
      "训练后，得到w: [ 0.    -0.005  0.   ]\n",
      "训练后，得到w: [-0.004       0.00044258 -0.00123393]\n",
      "训练后，得到w: [-0.001      -0.00097874 -0.00224089]\n",
      "训练后，得到w: [-0.001      -0.01176405 -0.00040016]\n",
      "[[[-0.002      -0.00121106 -0.00105378]\n",
      "  [ 0.001      -0.00555299  0.00065362]\n",
      "  [ 0.001      -0.01055299  0.00065362]]\n",
      "\n",
      " [[-0.003      -0.00095851  0.00071718]\n",
      "  [-0.001      -0.00676405 -0.00040016]\n",
      "  [ 0.         -0.005       0.        ]]\n",
      "\n",
      " [[-0.004       0.00044258 -0.00123393]\n",
      "  [-0.001      -0.00097874 -0.00224089]\n",
      "  [-0.001      -0.01176405 -0.00040016]]]\n"
     ]
    },
    {
     "data": {
      "image/png": "[encoded data removed]",
      "text/plain": [
       "<Figure size 432x288 with 1 Axes>"
      ]
     },
     "metadata": {
      "needs_background": "light"
     },
     "output_type": "display_data"
    }
   ],
   "source": [
    "s = np.zeros((3,100,3))\n",
    "w = np.zeros((3,3,3))\n",
    "s[0,:,:] = genData(1)\n",
    "s[1,:,:] = genData(5)\n",
    "s[2,:,:] = genData(10)\n",
    "\n",
    "for i in range(3):\n",
    "    for j in range(3):\n",
    "        s1 = s[i,:,:]\n",
    "        s1[:,2] = 1\n",
    "        s2 = s[j,:,:]\n",
    "        s2[:,2] = -1\n",
    "        train_data = np.concatenate((s1,s2), axis=0)\n",
    "        w[i,j] = PLA(train_data, 0)\n",
    "# w = PLA(s, 0)\n",
    "print(w)\n",
    "plt = genPlt(s[0,:,:], w[1,2], 'bs', plt)\n",
    "plt = genPlt(s[1,:,:], w[0,1], 'r*', plt)\n",
    "plt = genPlt(s[2,:,:], w[0,2], 'y^', plt)\n"
   ]
  }
 ],
 "metadata": {
  "kernelspec": {
   "display_name": "Python 3",
   "language": "python",
   "name": "python3"
  },
  "language_info": {
   "codemirror_mode": {
    "name": "ipython",
    "version": 3
   },
   "file_extension": ".py",
   "mimetype": "text/x-python",
   "name": "python",
   "nbconvert_exporter": "python",
   "pygments_lexer": "ipython3",
   "version": "3.5.6"
  }
 },
 "nbformat": 4,
 "nbformat_minor": 2
}
