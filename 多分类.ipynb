{
 "cells": [
  {
   "cell_type": "markdown",
   "metadata": {},
   "source": [
    "# 多分类"
   ]
  },
  {
   "cell_type": "code",
   "execution_count": 1,
   "metadata": {},
   "outputs": [
    {
     "data": {
      "text/plain": [
       "<Figure size 720x720 with 0 Axes>"
      ]
     },
     "execution_count": 1,
     "metadata": {},
     "output_type": "execute_result"
    },
    {
     "data": {
      "text/plain": [
       "<Figure size 720x720 with 0 Axes>"
      ]
     },
     "metadata": {},
     "output_type": "display_data"
    }
   ],
   "source": [
    "import numpy as np\n",
    "import matplotlib.pyplot as plt\n",
    "import numpy.random as rnd\n",
    "from numpy.linalg import cholesky\n",
    "%matplotlib inline\n",
    "\n",
    "plt.figure(figsize=(10,10))"
   ]
  },
  {
   "cell_type": "markdown",
   "metadata": {},
   "source": [
    "**生成样本数据**"
   ]
  },
  {
   "cell_type": "code",
   "execution_count": 2,
   "metadata": {},
   "outputs": [],
   "source": [
    "def genData(M, N=100):\n",
    "    rnd.seed(0)\n",
    "    Sigma = np.array([[1, 0], [0, 1]])\n",
    "    R = cholesky(Sigma)\n",
    "\n",
    "    mu = np.array([[M, M]])\n",
    "    s = np.dot(rnd.randn(N, 2), R) + mu\n",
    "    \n",
    "    one = np.ones(s.shape[0]).reshape(100, 1)\n",
    "    s = np.concatenate((s, M * one), axis=1)\n",
    "\n",
    "    rnd.shuffle(s)\n",
    "    return s"
   ]
  },
  {
   "cell_type": "markdown",
   "metadata": {},
   "source": [
    "**绘图函数**"
   ]
  },
  {
   "cell_type": "code",
   "execution_count": 10,
   "metadata": {},
   "outputs": [],
   "source": [
    "def genPltLine(w, plt):\n",
    "    y = np.linspace(0, 16)\n",
    "    x = -(w[0] + w[2] * y)/w[1]\n",
    "\n",
    "    plt.plot(x,y)\n",
    "    \n",
    "    return plt\n",
    "\n",
    "def genPltSca(S, style, plt):\n",
    "    plt.plot(S[:, 0], S[:, 1], style)\n",
    "    \n",
    "    return plt\n"
   ]
  },
  {
   "cell_type": "markdown",
   "metadata": {},
   "source": [
    "**感知器函数**"
   ]
  },
  {
   "cell_type": "code",
   "execution_count": 4,
   "metadata": {},
   "outputs": [],
   "source": [
    "def PLA(T, wi, plt):\n",
    "    study_total = 10000  # 总训练次数\n",
    "    study_step = 0.01  # 训练步长\n",
    "    w_total = 0  # w改变次数\n",
    "\n",
    "    if (wi == 0):\n",
    "        w = np.zeros(T.shape[1])  # 初始化权重向量为0 [权重都从0开始]\n",
    "    else:\n",
    "        w = np.ones(T.shape[1])  # 初始化权重向量为1 [权重都从1开始]\n",
    "    #     print(' W     X      W       B')\n",
    "    # 训练study_total次\n",
    "    for study in range(study_total):\n",
    "        w_before = w.copy()  # 训练前的w值\n",
    "\n",
    "        # 训练\n",
    "        for t in range(T.shape[0]):\n",
    "            # 计算实际的y值，其期望值为T[0][2]\n",
    "            X = T[t][0:T.shape[1] - 1]  # X的值\n",
    "            Y = T[t][T.shape[1] - 1]  # 期望值\n",
    "\n",
    "            if t > 100:\n",
    "                t = t\n",
    "\n",
    "            distin = Y * (w[0] + np.dot(w[1:], X))\n",
    "            # print('sign:', np.sign((w[0] + np.dot(w[1:],X))), 'Y:', Y)\n",
    "            # 判断X是否是误分类点\n",
    "            if distin <= 0:\n",
    "                # 根据误差优化w的值\n",
    "                w[1:] = w[1:] + study_step * Y * X\n",
    "                w[0] = w[0] + study_step * Y\n",
    "#                 print('w', w_total, ': x', t, w[0:w.shape[0]])\n",
    "                w_total = w_total + 1\n",
    "\n",
    "        # 经过训练后w、b都不在变化，说明训练集中已没有误分类点，那么跳出循环\n",
    "        if (w_before == w).all() :\n",
    "            print('训练后，得到w:', w[0:w.shape[0]])\n",
    "            break\n",
    "\n",
    "    return w"
   ]
  },
  {
   "cell_type": "markdown",
   "metadata": {},
   "source": [
    "# 多分类函数"
   ]
  },
  {
   "cell_type": "code",
   "execution_count": 13,
   "metadata": {},
   "outputs": [],
   "source": [
    "def OVO(s, n = 3):\n",
    "    for i in range(n):\n",
    "        for j in range(n):\n",
    "            if (i < j):\n",
    "                s1 = s[i,:,:]\n",
    "                s1[:,2] = 1\n",
    "                s2 = s[j,:,:]\n",
    "                s2[:,2] = -1\n",
    "                train_data = np.concatenate((s1,s2), axis=0)\n",
    "                w[i,j] = PLA(train_data, 0, plt)\n",
    "    return w"
   ]
  },
  {
   "cell_type": "markdown",
   "metadata": {},
   "source": [
    "分别生成$m_1=[1,1]^T$,$m_2=[6,6]^T$,$m_3=[10,10]^T$的正态分布，并且协方差矩阵都为$S_1=I$。\n",
    "并运用OVO函数对数据集进行分类.得到One Vs. One的w.\n",
    "绘制相应的分类面以及数据点"
   ]
  },
  {
   "cell_type": "code",
   "execution_count": 15,
   "metadata": {
    "scrolled": true
   },
   "outputs": [
    {
     "name": "stdout",
     "output_type": "stream",
     "text": [
      "训练后，得到w: [ 0.12       -0.01142071 -0.02625377]\n",
      "训练后，得到w: [ 0.13       -0.02328471 -0.01087292]\n",
      "训练后，得到w: [ 0.57       -0.03628496 -0.03035291]\n"
     ]
    },
    {
     "data": {
      "image/png": "[encoded data removed]",
      "text/plain": [
       "<Figure size 432x288 with 1 Axes>"
      ]
     },
     "metadata": {
      "needs_background": "light"
     },
     "output_type": "display_data"
    }
   ],
   "source": [
    "s = np.zeros((3,100,3))\n",
    "w = np.zeros((3,3,3))\n",
    "s[0,:,:] = genData(1)\n",
    "s[1,:,:] = genData(6)\n",
    "s[2,:,:] = genData(10)\n",
    "\n",
    "w = OVO(s)\n",
    "\n",
    "for i in range(3):\n",
    "    for j in range(3):\n",
    "        if (i < j):\n",
    "            plt = genPltLine(w[i,j], plt)\n",
    "plt = genPltSca(s[0,:,:], 'bs', plt)\n",
    "plt = genPltSca(s[1,:,:], 'r*', plt)\n",
    "plt = genPltSca(s[2,:,:], 'y^', plt)\n",
    "\n",
    "plt.xlim(-3,14)\n",
    "plt.ylim(-3,14)\n",
    "plt.show()"
   ]
  },
  {
   "cell_type": "markdown",
   "metadata": {},
   "source": [
    "# 预测"
   ]
  },
  {
   "cell_type": "markdown",
   "metadata": {},
   "source": [
    "## 预测函数"
   ]
  },
  {
   "cell_type": "code",
   "execution_count": 29,
   "metadata": {},
   "outputs": [],
   "source": [
    "def Predict(X, w):\n",
    "    result = np.zeros((X.shape[0], w.shape[0])) # 0:0,1  1:0,2  2:1,2\n",
    "    y_pred = -1 * np.ones((X.shape[0], 1))\n",
    "    t = 0\n",
    "    for i in range(3):\n",
    "        for j in range(3):\n",
    "            if (i < j):\n",
    "                result[:,t] = np.sign(w[i,j,0] + np.dot(X, w[i,j,1:]))\n",
    "                t = t+1\n",
    "    for i in range(result.shape[0]):\n",
    "        if (result[i][0] ==  1 and result[i, 1] ==  1):\n",
    "            y_pred[i] = 0\n",
    "        if (result[i][0] == -1 and result[i, 2] ==  1):\n",
    "            y_pred[i] = 1\n",
    "        if (result[i][1] == -1 and result[i, 2] == -1):\n",
    "            y_pred[i] = 2\n",
    "    return y_pred"
   ]
  },
  {
   "cell_type": "markdown",
   "metadata": {},
   "source": [
    "在[-3,16]的正方形区域内进行预测,并根据预测结果绘制图案,用来展示多分类的结果"
   ]
  },
  {
   "cell_type": "code",
   "execution_count": 16,
   "metadata": {
    "scrolled": false
   },
   "outputs": [
    {
     "data": {
      "image/png": "[encoded data removed]",
      "text/plain": [
       "<Figure size 432x288 with 1 Axes>"
      ]
     },
     "metadata": {
      "needs_background": "light"
     },
     "output_type": "display_data"
    }
   ],
   "source": [
    "x0s = np.linspace(-3, 16, 100)\n",
    "x1s = np.linspace(-3, 16, 100)\n",
    "x0, x1 = np.meshgrid(x0s, x1s)\n",
    "X = np.c_[x0.ravel(), x1.ravel()]\n",
    "\n",
    "y_pred = Predict(X,w).reshape(x0.shape)\n",
    "plt.contourf(x0, x1, y_pred, cmap=plt.cm.brg, alpha=0.2)\n",
    "\n",
    "plt = genPltSca(s[0,:,:], 'bs', plt)\n",
    "plt = genPltSca(s[1,:,:], 'r*', plt)\n",
    "plt = genPltSca(s[2,:,:], 'y^', plt)\n",
    "\n",
    "plt.xlim(-3,14)\n",
    "plt.ylim(-3,14)\n",
    "plt.show()"
   ]
  },
  {
   "cell_type": "markdown",
   "metadata": {},
   "source": [
    "# 结论\n",
    "通过对于s数据运用基于PLA的OVO多分类算法,发现对于多类线性可分的数据集而言,基于PLA的OVO多分类算法可以很好的进行类别预测.可以将误差控制在一定的范围内."
   ]
  },
  {
   "cell_type": "markdown",
   "metadata": {},
   "source": [
    "**额外测试**"
   ]
  },
  {
   "cell_type": "code",
   "execution_count": 31,
   "metadata": {
    "scrolled": true
   },
   "outputs": [
    {
     "name": "stdout",
     "output_type": "stream",
     "text": [
      "训练后，得到w: [ 0.07       -0.0100228  -0.01350147]\n",
      "训练后，得到w: [ 0.2        -0.05129942  0.03654486]\n",
      "训练后，得到w: [-0.01       -0.16997466  0.16975946]\n"
     ]
    },
    {
     "data": {
      "image/png": "[encoded data removed]",
      "text/plain": [
       "<Figure size 432x288 with 1 Axes>"
      ]
     },
     "metadata": {
      "needs_background": "light"
     },
     "output_type": "display_data"
    }
   ],
   "source": [
    "def extraData(X, Y, N=100):\n",
    "    rnd.seed(0)\n",
    "    Sigma = np.array([[1, 0], [0, 1]])\n",
    "    R = cholesky(Sigma)\n",
    "\n",
    "    mu = np.array([[X, Y]])\n",
    "    s = np.dot(rnd.randn(N, 2), R) + mu\n",
    "    \n",
    "    one = np.ones(s.shape[0]).reshape(100, 1)\n",
    "    s = np.concatenate((s, X * one), axis=1)\n",
    "\n",
    "    rnd.shuffle(s)\n",
    "    return s\n",
    "\n",
    "\n",
    "ex_s = np.zeros((3,100,3))\n",
    "ex_s[0,:,:] = extraData(1,1)\n",
    "ex_s[1,:,:] = extraData(6,10)\n",
    "ex_s[2,:,:] = extraData(10,3)\n",
    "\n",
    "ex_w = OVO(ex_s)\n",
    "\n",
    "x0s = np.linspace(-3, 16, 100)\n",
    "x1s = np.linspace(-3, 16, 100)\n",
    "x0, x1 = np.meshgrid(x0s, x1s)\n",
    "X = np.c_[x0.ravel(), x1.ravel()]\n",
    "\n",
    "y_pred = Predict(X,ex_w).reshape(x0.shape)\n",
    "plt.contourf(x0, x1, y_pred, cmap=plt.cm.brg, alpha=0.2)\n",
    "\n",
    "plt = genPltSca(ex_s[0,:,:], 'bs', plt)\n",
    "plt = genPltSca(ex_s[1,:,:], 'r*', plt)\n",
    "plt = genPltSca(ex_s[2,:,:], 'y^', plt)\n",
    "\n",
    "plt.xlim(-3,14)\n",
    "plt.ylim(-3,14)\n",
    "plt.show()"
   ]
  },
  {
   "cell_type": "markdown",
   "metadata": {},
   "source": [
    "通过额外的测试数据集发现,如果所有的分类面所给出来每一个类的可能性差不多,将无法对该点进行明确分类.\n",
    "这类问题可以讲PLA改为logistics判别算法,通过概率比较来得出最为接近的类别."
   ]
  }
 ],
 "metadata": {
  "kernelspec": {
   "display_name": "Python 3",
   "language": "python",
   "name": "python3"
  },
  "language_info": {
   "codemirror_mode": {
    "name": "ipython",
    "version": 3
   },
   "file_extension": ".py",
   "mimetype": "text/x-python",
   "name": "python",
   "nbconvert_exporter": "python",
   "pygments_lexer": "ipython3",
   "version": "3.5.6"
  }
 },
 "nbformat": 4,
 "nbformat_minor": 2
}
