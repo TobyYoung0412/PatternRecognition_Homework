{
 "cells": [
  {
   "cell_type": "markdown",
   "metadata": {},
   "source": [
    "# 线性支持向量机的朴素实现\n",
    "\n",
    "+ 虽然从形式上来说，线性支持向量机（LinearSVM）和感知机的差别只在于损失函数，但如果只是简单地将感知机的训练策略（亦即每次只选出使得损失函数最大的样本点来进行梯度下降）迁移过来的话、会引发一些问题。为方便，我们称感知机的训练策略为`极大梯度下降法`（注：这不是被广泛承认的称谓，只是本文的一个代称）\n",
    "+ 我们会先展示极大梯度下降法的有效性，然后会展示极大梯度下降法存在的问题，最后则会介绍一种解决方案、并将该解决方案拓展为 Mini-Batch 梯度下降法（MBGD）"
   ]
  },
  {
   "cell_type": "markdown",
   "metadata": {},
   "source": [
    "## 极大梯度下降法训练 LinearSVM"
   ]
  },
  {
   "cell_type": "code",
   "execution_count": 1,
   "metadata": {},
   "outputs": [],
   "source": [
    "import numpy as np\n",
    "import matplotlib.pyplot as plt\n",
    "\n",
    "class LinearSVM:\n",
    "    def __init__(self):\n",
    "        self._w = self._b = None\n",
    "        \n",
    "    def fit(self, x, y, c=1, lr=0.01, epoch=10000):\n",
    "        x, y = np.asarray(x, np.float32), np.asarray(y, np.float32)\n",
    "        self._w = np.zeros(x.shape[1])\n",
    "        self._b = 0.\n",
    "        for _ in range(epoch):\n",
    "            self._w *= 1 - lr\n",
    "            err = 1 - y * self.predict(x, True)\n",
    "            idx = np.argmax(err)\n",
    "            # 注意即使所有 x, y 都满足 w·x + b >= 1\n",
    "            # 由于损失里面有一个 w 的模长平方\n",
    "            # 所以仍然不能终止训练，只能截断当前的梯度下降\n",
    "            if err[idx] <= 0:\n",
    "                continue\n",
    "            delta = lr * c * y[idx]\n",
    "            self._w += delta * x[idx]\n",
    "            self._b += delta\n",
    "    \n",
    "    def predict(self, x, raw=False):\n",
    "        x = np.asarray(x, np.float32)\n",
    "        y_pred = x.dot(self._w) + self._b\n",
    "        if raw:\n",
    "            return y_pred\n",
    "        return np.sign(y_pred).astype(np.float32)\n",
    "    \n",
    "    def genPlt(self, X, Y, plt):\n",
    "        plt.plot(X[Y == 1][:,0], X[Y == 1][:,1],'bo')\n",
    "        plt.plot(X[Y == -1][:,0], X[Y == -1][:,1],'r*')\n",
    "        \n",
    "        \n",
    "        ly = np.linspace(x[:,1].min(),x[:,1].max())\n",
    "        lx = -(w[0] + w[2] * ly)/w[1]\n",
    "\n",
    "        plt.plot(lx,ly)\n",
    "        return plt\n",
    "        "
   ]
  },
  {
   "cell_type": "markdown",
   "metadata": {},
   "source": [
    "### 测试"
   ]
  },
  {
   "cell_type": "code",
   "execution_count": 8,
   "metadata": {},
   "outputs": [],
   "source": [
    "def genData():\n",
    "    X = np.loadtxt(\"cities_n.csv\", delimiter=',', skiprows=1, usecols=(1,2))\n",
    "    Y = np.loadtxt(\"cities_n.csv\", delimiter=',', skiprows=1, usecols=(3))\n",
    "#     test_X = np.loadtxt(\"cities.csv\", delimiter=',', skiprows=1, usecols=(1,2))[0]\n",
    "#     test_Y = np.loadtxt(\"cities.csv\", delimiter=',', skiprows=1, usecols=(3))[0]\n",
    "    \n",
    "    return X,Y\n"
   ]
  },
  {
   "cell_type": "code",
   "execution_count": 9,
   "metadata": {},
   "outputs": [],
   "source": [
    "x, y = genData()"
   ]
  },
  {
   "cell_type": "code",
   "execution_count": 10,
   "metadata": {},
   "outputs": [
    {
     "name": "stdout",
     "output_type": "stream",
     "text": [
      "准确率： 80.2724 %\n"
     ]
    }
   ],
   "source": [
    "svm = LinearSVM()\n",
    "svm.fit(x, y)\n",
    "print(\"准确率：{:8.6} %\".format((svm.predict(x) == y).mean() * 100))"
   ]
  },
  {
   "cell_type": "code",
   "execution_count": 23,
   "metadata": {},
   "outputs": [
    {
     "data": {
      "text/plain": [
       "<module 'matplotlib.pyplot' from '/home/toby/miniconda3/envs/MLDL/lib/python3.5/site-packages/matplotlib/pyplot.py'>"
      ]
     },
     "execution_count": 23,
     "metadata": {},
     "output_type": "execute_result"
    },
    {
     "data": {
      "image/png": "[encoded data removed]",
      "text/plain": [
       "<Figure size 432x288 with 1 Axes>"
      ]
     },
     "metadata": {
      "needs_background": "light"
     },
     "output_type": "display_data"
    }
   ],
   "source": [
    "svm.genPlt(x,y,plt)\n",
    "\n",
    "# w = [3.979999999999959, -1.10379681, 0.18668452]"
   ]
  },
  {
   "cell_type": "markdown",
   "metadata": {},
   "source": [
    "### 可视化"
   ]
  },
  {
   "cell_type": "markdown",
   "metadata": {},
   "source": [
    "## 存在的问题\n",
    "\n",
    "+ 由上述可视化其实已经可以看出，用极大梯度下降法训练 LinearSVM 会非常不稳定\n",
    "+ 从直观上来说，由于 LinearSVM 的损失函数比感知机要更复杂，所以相应的函数形状也会更复杂。这意味着当数据集稍微差一点的时候，直接单纯地应用极大梯度下降法可能会导致一些问题——比如说模型会卡在某个很奇怪的地方无法自拔（什么鬼）\n",
    "\n",
    "可以通过下面这个栗子来直观感受一下 LinearSVM 存在的这些问题："
   ]
  },
  {
   "cell_type": "code",
   "execution_count": 10,
   "metadata": {},
   "outputs": [
    {
     "name": "stdout",
     "output_type": "stream",
     "text": [
      "准确率： 5.55556 %\n"
     ]
    },
    {
     "name": "stderr",
     "output_type": "stream",
     "text": [
      "/home/toby/miniconda3/envs/MLDL/lib/python3.5/site-packages/ipykernel_launcher.py:38: RuntimeWarning: invalid value encountered in true_divide\n"
     ]
    },
    {
     "data": {
      "text/plain": [
       "<module 'matplotlib.pyplot' from '/home/toby/miniconda3/envs/MLDL/lib/python3.5/site-packages/matplotlib/pyplot.py'>"
      ]
     },
     "execution_count": 10,
     "metadata": {},
     "output_type": "execute_result"
    },
    {
     "data": {
      "image/png": "[encoded data removed]",
      "text/plain": [
       "<Figure size 432x288 with 1 Axes>"
      ]
     },
     "metadata": {
      "needs_background": "light"
     },
     "output_type": "display_data"
    }
   ],
   "source": [
    "# 注意我们只是把 center 参数（亦即正负样本点的“中心”）\n",
    "# 从原点(0, 0)（默认值）挪到(5, 5)（亦即破坏了一定的对称性）、\n",
    "# 并将正负样本点之间的距离（dis 参数）稍微拉近了一点而已，\n",
    "# 结果就已经惨不忍睹了\n",
    "x, y = genData()\n",
    "svm = LinearSVM()\n",
    "svm.fit(x, y)\n",
    "print(\"准确率：{:8.6} %\".format((svm.predict(x) == y).mean() * 100))\n",
    "svm.genPlt(x,y,plt)"
   ]
  },
  {
   "cell_type": "markdown",
   "metadata": {},
   "source": [
    "通过下面这张动图，我们能够直观地感受极大梯度下降法下 LinearSVM 的训练过程：\n",
    "\n",
    "![Failure of LinearSVM][1]\n",
    "\n",
    "可以看到，LinearSVM 确实卡在了奇怪的地方\n",
    "\n",
    "原理我不敢乱说，这里只提供一个牵强附会的直观解释：\n",
    "\n",
    "+ 每次只取使得损失函数极大的一个样本进行梯度下降$\\rightarrow$模型在某个地方可能来来回回都只受那么几个样本的影响$\\rightarrow$死循环（什么鬼！）\n",
    "\n",
    "专业的理论就留待专业的观众老爷补充吧 ( σ'ω')σ\n",
    "\n",
    "[1]: https://cdn.rawgit.com/carefree0910/Resources/83441596/Lines/LinearSVM(Failed1).gif"
   ]
  },
  {
   "cell_type": "markdown",
   "metadata": {},
   "source": [
    "## 解决方案\n",
    "\n",
    "极大梯度下降法的最大问题很有可能在于它每次都只根据**使得损失函数最大的一个样本点**来进行梯度下降，这会导致两个问题：\n",
    "+ 模型的训练将会很不稳定（这点和随机梯度下降类似）\n",
    "+ 模型对噪声或“不太好的点”极为敏感（因为它们往往会使损失函数最大）\n",
    "\n",
    "按部就班、我们先解决第一个问题，为此我们只需要多选出几个样本点（比如选出使得损失函数最大的 top n 个样本）、然后取它们梯度的平均即可\n",
    "\n",
    "### Top n 梯度下降法\n",
    "\n",
    "+ 注：该名字同样只是我瞎编的一个名字（喂）"
   ]
  },
  {
   "cell_type": "code",
   "execution_count": 11,
   "metadata": {},
   "outputs": [],
   "source": [
    "# 继承上一个 LinearSVM 以重复利用代码\n",
    "class LinearSVM2(LinearSVM):    \n",
    "    # 用参数 batch_size 表示 Top n 中的 n\n",
    "    def fit(self, x, y, c=1, lr=0.01, batch_size=128, epoch=10000):\n",
    "        x, y = np.asarray(x, np.float32), np.asarray(y, np.float32)\n",
    "        # 如果 batch_size 设得比样本总数还多、则将其改为样本总数\n",
    "        batch_size = min(batch_size, len(y))\n",
    "        self._w = np.zeros(x.shape[1])\n",
    "        self._b = 0.\n",
    "        for _ in range(epoch):\n",
    "            self._w *= 1 - lr\n",
    "            err = 1 - y * self.predict(x, True)\n",
    "            # 利用 argsort 函数直接取出 Top n\n",
    "            # 注意 argsort 的结果是从小到大的，所以要用 [::-1] 把结果翻转一下\n",
    "            batch = np.argsort(err)[-batch_size:][::-1]\n",
    "            err = err[batch]\n",
    "            if err[0] <= 0:\n",
    "                continue\n",
    "            # 注意这里我们只能利用误分类的样本做梯度下降\n",
    "            # 因为被正确分类的样本处、这一部分的梯度为 0\n",
    "            mask = err > 0\n",
    "            batch = batch[mask]\n",
    "            # 取各梯度平均并做一步梯度下降\n",
    "            delta = lr * c * y[batch]\n",
    "            self._w += np.mean(delta[..., None] * x[batch], axis=0)\n",
    "            self._b += np.mean(delta)\n",
    "            \n",
    "        def genPlt(self, X, Y, plt):\n",
    "            plt.plot(X[Y == 1][:,1], X[Y == 1][:,0],'bo')\n",
    "            plt.plot(X[Y == -1][:,1], X[Y == -1][:,0],'r*')\n",
    "            plt.plot(X[Y == 0][:,1], X[Y == 0][:,0], 'ys')\n",
    "\n",
    "            ly = np.linspace(x[:,1].min(),x[:,1].max())\n",
    "            lx = -(w[0] + w[2] * ly)/w[1]\n",
    "\n",
    "            plt.plot(lx,ly)\n",
    "            return plt"
   ]
  },
  {
   "cell_type": "markdown",
   "metadata": {},
   "source": [
    "#### 测试"
   ]
  },
  {
   "cell_type": "code",
   "execution_count": 12,
   "metadata": {},
   "outputs": [
    {
     "name": "stdout",
     "output_type": "stream",
     "text": [
      "准确率： 38.8889 %\n"
     ]
    },
    {
     "data": {
      "text/plain": [
       "<module 'matplotlib.pyplot' from '/home/toby/miniconda3/envs/MLDL/lib/python3.5/site-packages/matplotlib/pyplot.py'>"
      ]
     },
     "execution_count": 12,
     "metadata": {},
     "output_type": "execute_result"
    },
    {
     "data": {
      "image/png": "[encoded data removed]",
      "text/plain": [
       "<Figure size 432x288 with 1 Axes>"
      ]
     },
     "metadata": {
      "needs_background": "light"
     },
     "output_type": "display_data"
    }
   ],
   "source": [
    "# x, y = gen_two_clusters(center=5, dis=1)\n",
    "svm = LinearSVM2()\n",
    "svm.fit(x, y)\n",
    "print(\"准确率：{:8.6} %\".format((svm.predict(x) == y).mean() * 100))\n",
    "# visualize2d(svm, x, y)\n",
    "# visualize2d(svm, x, y, True)\n",
    "svm.genPlt(x,y,plt)"
   ]
  },
  {
   "cell_type": "markdown",
   "metadata": {},
   "source": [
    "### Mini-Batch 梯度下降法（MBGD）\n",
    "\n",
    "+ 上述解决方案已经不错，但我们还是有些太“激进”了——我们每次进行梯度下降时，选取的样本点都是使得损失函数最大的样本点，但一般而言使损失函数最大的样本点如果不是关键的样本点（支持向量）的话、通常而言会是噪声。当数据集比较差时，噪声所带来的副作用很有可能就会盖过支持向量带来的正效应\n",
    "+ 为此，我们应该引入一定的随机性。神经网络的训练中所用的 MBGD 就是很好的方法：每次都从数据集中抽样出一个小 Batch，然后用这个 Batch 来做梯度下降"
   ]
  },
  {
   "cell_type": "code",
   "execution_count": 14,
   "metadata": {},
   "outputs": [],
   "source": [
    "class LinearSVM3(LinearSVM):\n",
    "    def fit(self, x, y, c=1, lr=0.01, batch_size=128, epoch=10000):\n",
    "        x, y = np.asarray(x, np.float32), np.asarray(y, np.float32)\n",
    "        batch_size = min(batch_size, len(y))\n",
    "        self._w = np.zeros(x.shape[1])\n",
    "        self._b = 0.\n",
    "        for _ in range(epoch):\n",
    "            self._w *= 1 - lr\n",
    "            # 随机选取 batch_size 个样本\n",
    "            batch = np.random.choice(len(x), batch_size)\n",
    "            x_batch, y_batch = x[batch], y[batch]\n",
    "            err = 1 - y_batch * self.predict(x_batch, True)\n",
    "            if np.max(err) <= 0:\n",
    "                continue\n",
    "            mask = err > 0\n",
    "            delta = lr * c * y_batch[mask]\n",
    "            self._w += np.mean(delta[..., None] * x_batch[mask], axis=0)\n",
    "            self._b += np.mean(delta)\n",
    "            \n",
    "        def genPlt(self, X, Y, plt):\n",
    "            plt.plot(X[Y == 1][:,1], X[Y == 1][:,0],'bo')\n",
    "            plt.plot(X[Y == -1][:,1], X[Y == -1][:,0],'r*')\n",
    "            plt.plot(X[Y == 0][:,1], X[Y == 0][:,0], 'ys')\n",
    "\n",
    "            ly = np.linspace(x[:,1].min(),x[:,1].max())\n",
    "            lx = -(w[0] + w[2] * ly)/w[1]\n",
    "\n",
    "            plt.plot(lx,ly)\n",
    "            return plt"
   ]
  },
  {
   "cell_type": "markdown",
   "metadata": {},
   "source": [
    "#### 测试"
   ]
  },
  {
   "cell_type": "code",
   "execution_count": null,
   "metadata": {},
   "outputs": [],
   "source": [
    "# 进一步拉近正负样本点间的距离以观察性能\n",
    "x, y = gen_two_clusters(center=5, dis=0.5)\n",
    "top_n_svm = LinearSVM2()\n",
    "top_n_svm.fit(x, y)\n",
    "print(\"Top n LinearSVM 准确率：{:8.6} %\".format((top_n_svm.predict(x) == y).mean() * 100))\n",
    "mbgd_svm = LinearSVM3()\n",
    "mbgd_svm.fit(x, y)\n",
    "print(\"MBGD  LinearSVM 准确率：{:8.6} %\".format((mbgd_svm.predict(x) == y).mean() * 100))\n",
    "\n",
    "visualize2d(top_n_svm, x, y)\n",
    "visualize2d(mbgd_svm, x, y)"
   ]
  },
  {
   "cell_type": "markdown",
   "metadata": {},
   "source": [
    "## 存在的问题\n",
    "\n",
    "Top n LinearSVM 和 MBGD LinearSVM 各有优劣，很难直接说谁好谁坏；但它们都有一个共同的问题，那就是它们所运用的梯度下降法都只是朴素的`Vanilla Update`，这会导致当数据的 scale 很大时模型对参数极为敏感、从而导致持续的震荡（所谓的 scale 比较大，可以理解为“规模很大”，或者直白一点——以二维数据为例的话——就是横纵坐标的数值很大）\n",
    "\n",
    "可以通过下面这个栗子来直观感受一下 scale 很大的数据所带来的问题："
   ]
  },
  {
   "cell_type": "code",
   "execution_count": null,
   "metadata": {},
   "outputs": [],
   "source": [
    "# 将 scale 从 1（默认）调成 5\n",
    "x, y = gen_two_clusters(center=5, scale=5)\n",
    "top_n_svm = LinearSVM2()\n",
    "top_n_svm.fit(x, y)\n",
    "print(\"Top n LinearSVM 准确率：{:8.6} %\".format((top_n_svm.predict(x) == y).mean() * 100))\n",
    "mbgd_svm = LinearSVM3()\n",
    "mbgd_svm.fit(x, y)\n",
    "print(\"MBGD  LinearSVM 准确率：{:8.6} %\".format((mbgd_svm.predict(x) == y).mean() * 100))\n",
    "\n",
    "visualize2d(top_n_svm, x, y)\n",
    "visualize2d(mbgd_svm, x, y)"
   ]
  },
  {
   "cell_type": "markdown",
   "metadata": {},
   "source": [
    "通过下面这张动图，我们能够直观地感受数据的 scale 很大时 LinearSVM 的训练过程：\n",
    "\n",
    "![Failure of LinearSVM][2]\n",
    "\n",
    "可以看到，模型确实一直在持续震荡\n",
    "\n",
    "[2]: https://cdn.rawgit.com/carefree0910/Resources/83441596/Lines/LinearSVM(Failed2).gif"
   ]
  },
  {
   "cell_type": "markdown",
   "metadata": {},
   "source": [
    "## 解决方案\n",
    "\n",
    "+ 采用更好的梯度下降法，比如`Adam`之类的\n",
    "+ 进行数据预处理、把数据的 scale 弄回 1\n",
    "\n",
    "关于`Adam`等梯度下降算法的实现和在 LinearSVM 上的应用可以参见[这里](https://github.com/carefree0910/MachineLearning/blob/master/NN/Basic/Optimizers.py)和[这里](https://github.com/carefree0910/MachineLearning/blob/master/e_SVM/LinearSVM.py)，下面我们就仅展示进行数据预处理后的结果"
   ]
  },
  {
   "cell_type": "code",
   "execution_count": 15,
   "metadata": {},
   "outputs": [
    {
     "name": "stdout",
     "output_type": "stream",
     "text": [
      "Top 1 LinearSVM 准确率： 5.55556 %\n",
      "Top n LinearSVM 准确率： 94.4444 %\n",
      "MBGD  LinearSVM 准确率： 94.4444 %\n"
     ]
    },
    {
     "name": "stderr",
     "output_type": "stream",
     "text": [
      "/home/toby/miniconda3/envs/MLDL/lib/python3.5/site-packages/ipykernel_launcher.py:38: RuntimeWarning: invalid value encountered in true_divide\n"
     ]
    },
    {
     "data": {
      "text/plain": [
       "<module 'matplotlib.pyplot' from '/home/toby/miniconda3/envs/MLDL/lib/python3.5/site-packages/matplotlib/pyplot.py'>"
      ]
     },
     "execution_count": 15,
     "metadata": {},
     "output_type": "execute_result"
    },
    {
     "data": {
      "image/png": "[encoded data removed]",
      "text/plain": [
       "<Figure size 432x288 with 1 Axes>"
      ]
     },
     "metadata": {
      "needs_background": "light"
     },
     "output_type": "display_data"
    }
   ],
   "source": [
    "x, y = genData()\n",
    "# 进行归一化处理\n",
    "x -= x.mean(axis=0)\n",
    "x /= x.std(axis=0)\n",
    "# Top 1 梯度下降法即为极大梯度下降法\n",
    "top_1_svm = LinearSVM()\n",
    "top_1_svm.fit(x, y)\n",
    "print(\"Top 1 LinearSVM 准确率：{:8.6} %\".format((top_1_svm.predict(x) == y).mean() * 100))\n",
    "top_n_svm = LinearSVM2()\n",
    "top_n_svm.fit(x, y)\n",
    "print(\"Top n LinearSVM 准确率：{:8.6} %\".format((top_n_svm.predict(x) == y).mean() * 100))\n",
    "mbgd_svm = LinearSVM3()\n",
    "mbgd_svm.fit(x, y)\n",
    "print(\"MBGD  LinearSVM 准确率：{:8.6} %\".format((mbgd_svm.predict(x) == y).mean() * 100))\n",
    "\n",
    "top_1_svm.genPlt(x,y,plt)\n",
    "top_n_svm.genPlt(x,y,plt)\n",
    "mbgd_svm.genPlt(x,y,plt)"
   ]
  },
  {
   "cell_type": "markdown",
   "metadata": {},
   "source": [
    "可以看到在归一化处理后，即使是简单地采用极大梯度下降法，也能够在比较苛刻的数据（`center=5`、`dis=1`、`scale=5`）上表现得不错"
   ]
  }
 ],
 "metadata": {
  "anaconda-cloud": {},
  "kernelspec": {
   "display_name": "Python 3",
   "language": "python",
   "name": "python3"
  },
  "language_info": {
   "codemirror_mode": {
    "name": "ipython",
    "version": 3
   },
   "file_extension": ".py",
   "mimetype": "text/x-python",
   "name": "python",
   "nbconvert_exporter": "python",
   "pygments_lexer": "ipython3",
   "version": "3.5.6"
  }
 },
 "nbformat": 4,
 "nbformat_minor": 1
}
