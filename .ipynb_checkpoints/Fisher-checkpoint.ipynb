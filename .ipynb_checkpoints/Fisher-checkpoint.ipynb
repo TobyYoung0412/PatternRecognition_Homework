{
 "cells": [
  {
   "cell_type": "code",
   "execution_count": 1,
   "metadata": {},
   "outputs": [],
   "source": [
    "import numpy as np\n",
    "import matplotlib.pyplot as plt\n",
    "import numpy.random as rnd\n",
    "from numpy.linalg import cholesky\n",
    "%matplotlib inline"
   ]
  },
  {
   "cell_type": "code",
   "execution_count": 2,
   "metadata": {},
   "outputs": [],
   "source": [
    "def genData(M, N = 100):\n",
    "    rnd.seed(0)\n",
    "    Sigma = np.array([[1, 0], [0, 1]])\n",
    "    R = cholesky(Sigma)\n",
    "    \n",
    "    mu = np.array([[-M, 0]])\n",
    "    s1 = np.dot(np.random.randn(N, 2), R) + mu\n",
    "    mu = np.array([[M, 0]])\n",
    "    s2 = np.dot(np.random.randn(N, 2), R) + mu\n",
    "    \n",
    "    one = np.ones(s1.shape[0]).reshape(100,1)\n",
    "    \n",
    "    s1 = np.concatenate((s1, -1 * one), axis = 1)\n",
    "    s2 = np.concatenate((s2,  1 * one), axis = 1)\n",
    "    s_t = np.concatenate((s1, s2), axis=0)\n",
    "    s = np.concatenate((np.ones((s_t.shape[0],1)), s_t), axis=1)\n",
    "    \n",
    "    return s"
   ]
  },
  {
   "cell_type": "code",
   "execution_count": 5,
   "metadata": {},
   "outputs": [
    {
     "name": "stdout",
     "output_type": "stream",
     "text": [
      "[[ 1.         -3.23594765  0.40015721 -1.        ]\n",
      " [ 1.         -4.02126202  2.2408932  -1.        ]\n",
      " [ 1.         -3.13244201 -0.97727788 -1.        ]] [[ 1.          4.70816264 -0.76149221  1.        ]\n",
      " [ 1.          5.85792392  1.14110187  1.        ]\n",
      " [ 1.          6.46657872  0.85255194  1.        ]]\n"
     ]
    }
   ],
   "source": [
    "S = genData(5)\n",
    "print(S[:3], S[-3:])"
   ]
  },
  {
   "cell_type": "code",
   "execution_count": 4,
   "metadata": {},
   "outputs": [],
   "source": [
    "def genPlt(S, w, plt):\n",
    "    y = np.linspace(-3,3)\n",
    "    x = (w[0] + w[2] * y)/w[1]\n",
    "\n",
    "    plt.plot(S[:101,1],S[:101,2],'+')\n",
    "    plt.plot(S[101:,1],S[101:,2],'o')\n",
    "    plt.plot(x,y)\n",
    "    \n",
    "    return plt"
   ]
  },
  {
   "cell_type": "code",
   "execution_count": 27,
   "metadata": {},
   "outputs": [],
   "source": [
    "def cal_cov_and_avg(samples):\n",
    "    \"\"\"\n",
    "    给定一个类别的数据，计算协方差矩阵和平均向量\n",
    "    :param samples: \n",
    "    :return: \n",
    "    \"\"\"\n",
    "    u1 = np.mean(samples, axis=0)\n",
    "    cov_m = np.zeros((samples.shape[1], samples.shape[1]))\n",
    "    for s in samples:\n",
    "        t = s - u1\n",
    "        cov_m += t * t.T\n",
    "    return cov_m, u1\n",
    "\n",
    "\n",
    "def fisher(c_1, c_2):\n",
    "    \"\"\"\n",
    "    fisher算法实现(请参考上面推导出来的公式，那个才是精华部分)\n",
    "    :param c_1: \n",
    "    :param c_2: \n",
    "    :return: \n",
    "    \"\"\"\n",
    "    cov_1, u1 = cal_cov_and_avg(c_1)\n",
    "    cov_2, u2 = cal_cov_and_avg(c_2)\n",
    "    s_w = cov_1 + cov_2\n",
    "    # u, s, v = np.linalg.svd(s_w)  # 奇异值分解\n",
    "    # s_w_inv = np.dot(np.dot(v.T, np.linalg.inv(np.diag(s))), u.T)\n",
    "    s_w_inv = np.linalg.pinv(s_w)\n",
    "    return np.dot(s_w_inv, u1 - u2)"
   ]
  },
  {
   "cell_type": "code",
   "execution_count": 29,
   "metadata": {},
   "outputs": [
    {
     "name": "stdout",
     "output_type": "stream",
     "text": [
      "[[  0.         104.43979414 103.18809343]\n",
      " [  0.         104.43979414 103.18809343]\n",
      " [  0.         104.43979414 103.18809343]] \n",
      "\n",
      "\n",
      "\n",
      "\n",
      " [ 1.         -5.00095768  0.14277867]\n",
      "[[ 0.         92.86441447 85.03739282]\n",
      " [ 0.         92.86441447 85.03739282]\n",
      " [ 0.         92.86441447 85.03739282]] \n",
      "\n",
      "\n",
      "\n",
      "\n",
      " [ 1.          4.85692167 -0.11295063]\n"
     ]
    }
   ],
   "source": [
    "cov1, u1 = cal_cov_and_avg(S[:S.shape[0]//2, :-1])\n",
    "print(cov1, '\\n\\n\\n\\n\\n', u1)\n",
    "cov2, u2 = cal_cov_and_avg(S[S.shape[0]//2:, :-1])\n",
    "print(cov2, '\\n\\n\\n\\n\\n', u2)"
   ]
  },
  {
   "cell_type": "code",
   "execution_count": 40,
   "metadata": {},
   "outputs": [
    {
     "data": {
      "text/plain": [
       "array([[0.        , 0.        , 0.        ],\n",
       "       [0.00088448, 0.00088448, 0.00088448],\n",
       "       [0.00084378, 0.00084378, 0.00084378]])"
      ]
     },
     "execution_count": 40,
     "metadata": {},
     "output_type": "execute_result"
    }
   ],
   "source": [
    "# w = fisher(S[:S.shape[0]//2, :-1],S[S.shape[0]//2:, :-1])\n",
    "s_w = cov1 + cov2\n",
    "np.linalg.pinv(s_w)"
   ]
  }
 ],
 "metadata": {
  "kernelspec": {
   "display_name": "Python 3",
   "language": "python",
   "name": "python3"
  },
  "language_info": {
   "codemirror_mode": {
    "name": "ipython",
    "version": 3
   },
   "file_extension": ".py",
   "mimetype": "text/x-python",
   "name": "python",
   "nbconvert_exporter": "python",
   "pygments_lexer": "ipython3",
   "version": "3.5.6"
  }
 },
 "nbformat": 4,
 "nbformat_minor": 2
}
