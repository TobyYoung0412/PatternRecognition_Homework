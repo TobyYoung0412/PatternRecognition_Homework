{
 "cells": [
  {
   "cell_type": "markdown",
   "metadata": {},
   "source": [
    "# 线性支持向量机的朴素实现\n",
    "\n",
    "+ 虽然从形式上来说，线性支持向量机（LinearSVM）和感知机的差别只在于损失函数，但如果只是简单地将感知机的训练策略（亦即每次只选出使得损失函数最大的样本点来进行梯度下降）迁移过来的话、会引发一些问题。为方便，我们称感知机的训练策略为`极大梯度下降法`（注：这不是被广泛承认的称谓，只是本文的一个代称）\n",
    "+ 我会先使用极大梯度下降的方法来实现SVM,展示极大梯度下降法的有效性，然后会通过SMO方法进行展示,并进行两种算法的对比."
   ]
  },
  {
   "cell_type": "markdown",
   "metadata": {},
   "source": [
    "## 数据集\n",
    "由于找到的的数据为中日两国的主要城市的经纬度坐标,其中有部分数据有问题,再次进行了手动以及自动筛选的办法,从中选取了少量的数据来进行验证算法的正确性以及效率."
   ]
  },
  {
   "cell_type": "markdown",
   "metadata": {},
   "source": [
    "**原始数据集**\n",
    "蓝色圆圈为中国城市.红色五角星为日本城市,绿色十字为钓鱼岛.\n"
   ]
  },
  {
   "cell_type": "code",
   "execution_count": 1,
   "metadata": {},
   "outputs": [],
   "source": [
    "import numpy as np\n",
    "import matplotlib.pyplot as plt\n",
    "import numpy.random as rnd\n",
    "import copy"
   ]
  },
  {
   "cell_type": "code",
   "execution_count": 2,
   "metadata": {},
   "outputs": [
    {
     "name": "stdout",
     "output_type": "stream",
     "text": [
      "(18254, 2)\n"
     ]
    },
    {
     "data": {
      "image/png": "[encoded data removed]",
      "text/plain": [
       "<Figure size 432x288 with 1 Axes>"
      ]
     },
     "metadata": {
      "needs_background": "light"
     },
     "output_type": "display_data"
    }
   ],
   "source": [
    "x = np.loadtxt(\"cities_all.csv\", delimiter=',', skiprows=1, usecols=(1, 2))\n",
    "y = np.loadtxt(\"cities_all.csv\", delimiter=',', skiprows=1, usecols=(3))\n",
    "print(x.shape)\n",
    "plt.plot(x[y == 1][:,0], x[y == 1][:,1],'bo')\n",
    "plt.plot(x[y == -1][:,0], x[y == -1][:,1],'r*')\n",
    "plt.plot(x[y == 0][:,0], x[y == 0][:,1],'g+')\n",
    "plt.show()"
   ]
  },
  {
   "cell_type": "markdown",
   "metadata": {},
   "source": [
    "**清洗过后的数据**观察发现原始数据集过于庞大并且不满足对于沿海城市条件.故进行了筛选,优先选择沿海城市,并进行了随机抽样."
   ]
  },
  {
   "cell_type": "code",
   "execution_count": 3,
   "metadata": {},
   "outputs": [],
   "source": [
    "def genData():\n",
    "    X = np.loadtxt(\"cities_small.csv\", delimiter=',', skiprows=1, usecols=(1, 2))\n",
    "    Y = np.loadtxt(\"cities_small.csv\", delimiter=',', skiprows=1, usecols=(3))\n",
    "    \n",
    "    rnd.seed(0)\n",
    "    sample1 = rnd.choice(X[Y == 1].shape[0],300)\n",
    "    sample2 = rnd.choice(X[Y == -1].shape[0],300) + X[Y == 1].shape[0]\n",
    "    sample = np.concatenate(([0,],np.concatenate((sample1,sample2))))\n",
    "    X = X[sample].copy()\n",
    "    Y= Y[sample].copy()\n",
    "    \n",
    "    return X,Y\n"
   ]
  },
  {
   "cell_type": "code",
   "execution_count": 4,
   "metadata": {},
   "outputs": [
    {
     "name": "stdout",
     "output_type": "stream",
     "text": [
      "(601, 2)\n"
     ]
    },
    {
     "data": {
      "text/plain": [
       "[<matplotlib.lines.Line2D at 0x7fc9116ff208>]"
      ]
     },
     "execution_count": 4,
     "metadata": {},
     "output_type": "execute_result"
    },
    {
     "data": {
      "image/png": "[encoded data removed]",
      "text/plain": [
       "<Figure size 432x288 with 1 Axes>"
      ]
     },
     "metadata": {
      "needs_background": "light"
     },
     "output_type": "display_data"
    }
   ],
   "source": [
    "x, y = genData()\n",
    "print(x.shape)\n",
    "plt.plot(x[y == 1][:,0], x[y == 1][:,1],'bo')\n",
    "plt.plot(x[y == -1][:,0], x[y == -1][:,1],'r*')\n",
    "plt.plot(x[y == 0][:,0], x[y == 0][:,1],'g+')"
   ]
  },
  {
   "cell_type": "markdown",
   "metadata": {},
   "source": [
    "## 极大梯度下降法训练 LinearSVM"
   ]
  },
  {
   "cell_type": "code",
   "execution_count": 5,
   "metadata": {},
   "outputs": [],
   "source": [
    "class LinearSVM:\n",
    "    def __init__(self):\n",
    "        self._w = self._b = None\n",
    "        \n",
    "    def fit(self, x, y, c=1, lr=0.01, epoch=10000):\n",
    "        x, y = np.asarray(x, np.float32), np.asarray(y, np.float32)\n",
    "        self._w = np.zeros(x.shape[1])\n",
    "        self._b = 0.\n",
    "        for _ in range(epoch):\n",
    "            self._w *= 1 - lr\n",
    "            err = 1 - y * self.predict(x, True)\n",
    "            idx = np.argmax(err)\n",
    "            # 注意即使所有 x, y 都满足 w·x + b >= 1\n",
    "            # 由于损失里面有一个 w 的模长平方\n",
    "            # 所以仍然不能终止训练，只能截断当前的梯度下降\n",
    "            if err[idx] <= 0:\n",
    "                continue\n",
    "            delta = lr * c * y[idx]\n",
    "            self._w += delta * x[idx]\n",
    "            self._b += delta\n",
    "    \n",
    "    def predict(self, x, raw=False):\n",
    "        x = np.asarray(x, np.float32)\n",
    "        y_pred = x.dot(self._w) + self._b\n",
    "        if raw:\n",
    "            return y_pred\n",
    "        return np.sign(y_pred).astype(np.float32)\n",
    "    \n",
    "    def genPlt(self, X, Y, plt):\n",
    "        plt.plot(X[Y == 1][:,0], X[Y == 1][:,1],'bo')\n",
    "        plt.plot(X[Y == -1][:,0], X[Y == -1][:,1],'r*')\n",
    "        plt.plot(X[Y == 0][:,0], X[Y == 0][:,1],'g+')\n",
    "        \n",
    "        \n",
    "        ly = np.linspace(x[:,1].min(),x[:,1].max())\n",
    "        lx = -(self._b + self._w[1] * ly)/self._w[0]\n",
    "\n",
    "        plt.plot(lx,ly)\n",
    "        return plt\n",
    "        "
   ]
  },
  {
   "cell_type": "markdown",
   "metadata": {},
   "source": [
    "#### 对清洗过后的数据不进行任何处理直接进行训练:"
   ]
  },
  {
   "cell_type": "code",
   "execution_count": 6,
   "metadata": {
    "scrolled": true
   },
   "outputs": [
    {
     "name": "stdout",
     "output_type": "stream",
     "text": [
      "准确率：0.166389 %\n"
     ]
    },
    {
     "name": "stderr",
     "output_type": "stream",
     "text": [
      "/home/toby/miniconda3/envs/MLDL/lib/python3.5/site-packages/ipykernel_launcher.py:36: RuntimeWarning: invalid value encountered in true_divide\n"
     ]
    },
    {
     "data": {
      "text/plain": [
       "<module 'matplotlib.pyplot' from '/home/toby/miniconda3/envs/MLDL/lib/python3.5/site-packages/matplotlib/pyplot.py'>"
      ]
     },
     "execution_count": 6,
     "metadata": {},
     "output_type": "execute_result"
    },
    {
     "data": {
      "image/png": "[encoded data removed]",
      "text/plain": [
       "<Figure size 432x288 with 1 Axes>"
      ]
     },
     "metadata": {
      "needs_background": "light"
     },
     "output_type": "display_data"
    }
   ],
   "source": [
    "svm = LinearSVM()\n",
    "svm.fit(x, y)\n",
    "print(\"准确率：{:8.6} %\".format((svm.predict(x) == y).mean() * 100))\n",
    "svm.genPlt(x,y,plt)"
   ]
  },
  {
   "cell_type": "markdown",
   "metadata": {},
   "source": [
    "发现上图由于经纬度取值都较大,所以训练出来的分类面无法进行正确的分类.\n",
    "\n",
    "通过进行归一化处理再次进行训练:"
   ]
  },
  {
   "cell_type": "code",
   "execution_count": 7,
   "metadata": {},
   "outputs": [
    {
     "data": {
      "image/png": "[encoded data removed]",
      "text/plain": [
       "<Figure size 432x288 with 1 Axes>"
      ]
     },
     "metadata": {
      "needs_background": "light"
     },
     "output_type": "display_data"
    }
   ],
   "source": [
    "# 进行归一化处理\n",
    "x -= x.mean(axis=0)\n",
    "x /= x.std(axis=0)\n",
    "# Top 1 梯度下降法即为极大梯度下降法\n",
    "top_1_svm = LinearSVM()\n",
    "top_1_svm.fit(x[1:], y[1:])\n",
    "top_1_svm.genPlt(x,y,plt)\n",
    "\n",
    "plt.plot(x[0][0], x[0][1],'g+')\n",
    "plt.show()"
   ]
  },
  {
   "cell_type": "markdown",
   "metadata": {},
   "source": [
    "## SMO算法"
   ]
  },
  {
   "cell_type": "code",
   "execution_count": 8,
   "metadata": {},
   "outputs": [],
   "source": [
    "class SVMStruct:\n",
    "\n",
    "    def __init__(self, x, y, C, Toler, kernelType):\n",
    "        self.x = x  # 数据样本,每一行代表一个样本\n",
    "        self.y = y  # 分类标签\n",
    "        self.b = 0\n",
    "        self.C = C  # C是离群点的权重，C越大表明离群点对目标函数影响越大，也就是越不希望看到离群点\n",
    "        self.Toler = Toler  # 松弛变量\n",
    "        self.numSamples = x.shape[0]    # 样本个数\n",
    "        self.alphas = np.mat(np.zeros((self.numSamples, 1)))  # 所有样本的拉格朗日因子\n",
    "        self.errorCache = np.mat(np.zeros((self.numSamples, 2)))  # 每次迭代的误差\n",
    "        # 核函数类型\n",
    "        # kernelType=(\"rbf\", 1) rbf 表示使用径向基RBF函数作为核函数,其第二个参数不可为0\n",
    "        # kernelType=(\"linear\", 0) rbf 表示使用径向基RBF函数作为核函数,不会使用到第二个参数\n",
    "        self.kernelType = kernelType\n",
    "        # 计算x矩阵的核函数矩阵\n",
    "        self.kernelMat = calcKernelMatrix(x, kernelType)\n",
    "\n",
    "\n",
    "def calcKernelMatrix(x, kernelType):\n",
    "    # 计算x矩阵的核函数矩阵\n",
    "    n = x.shape[0]\n",
    "    kernelMat = np.mat(np.zeros((n, n)))\n",
    "    for i in range(n):\n",
    "        kernelMat[:, i] = calcKernelValue(x, x[i, :], kernelType, n)\n",
    "    return kernelMat\n",
    "\n",
    "\n",
    "def calcKernelValue(x, xi, kernelType, n):\n",
    "    # 根据选择的情况计算核函数矩阵\n",
    "    kernelValue = np.mat(np.zeros((n, 1)))\n",
    "    if kernelType[0] == \"linear\":\n",
    "        kernelValue = x * xi.T\n",
    "    elif kernelType[0] == \"rbf\":\n",
    "        for i in range(n):\n",
    "            diff = x[i, :] - xi\n",
    "            kernelValue[i] = np.exp(diff * diff.T / (-2.0 * kernelType[1]**2))\n",
    "    else:\n",
    "        # 通过raise显示地引发异常。一旦执行了raise语句，raise后面的语句将不能执行\n",
    "        raise NameError('请选择核函数的类型')\n",
    "    return kernelValue\n",
    "\n",
    "\n",
    "def SVMtrain(x, y, C, Toler, IterNum, kernelType):\n",
    "    model = SVMStruct(x, y, C, Toler, kernelType)\n",
    "    # 记录迭代结束后实际迭代次数\n",
    "    iterCount = 0\n",
    "    # 判断α的值是否发生了变化\n",
    "    ischange = 1\n",
    "    # 开始迭代,终止条件为：\n",
    "    # 1、完成所有迭代\n",
    "    # 2、α的值不再发生变化并且所有α(样本)符合KKT条件\n",
    "    while(iterCount < IterNum and ischange > 0):\n",
    "        ischange = 0\n",
    "        for i in range(model.numSamples):\n",
    "            ischange += innerLoop(model, i)\n",
    "        iterCount += 1\n",
    "    print(iterCount)\n",
    "\n",
    "    return model\n",
    "\n",
    "\n",
    "def innerLoop(model, i):\n",
    "    Ei = calcError(model, i)\n",
    "    # 判断该点是否符合KKT条件，符合就返回0.不符合进行更新\n",
    "    if(FitKKT(model, i) == 0):\n",
    "        return 0\n",
    "    # 根据αi选择αj\n",
    "    j, Ej = selectAlpha(model, i, Ei)\n",
    "    # Python中的赋值操作（包括对象作为参数、返回值）不会开辟新的内存空间，它只是复制了新对象的引用\n",
    "    # 浅拷贝会创建新对象，其内容是原对象的引用。浅拷贝有三种形式：切片操作，工厂函数，copy模块中的copy函数\n",
    "    # 深拷贝拷贝了对象的所有元素，包括多层嵌套的元素\n",
    "    alpha_i_old = copy.deepcopy(model.alphas[i])\n",
    "    alpha_j_old = copy.deepcopy(model.alphas[j])\n",
    "    # 计算边界L和H\n",
    "    # if yi!=yj L=max(0,αj-αi) H=min(C,C+αj-αi)\n",
    "    # if yi==yj L=max(0,αj+αi-C) H=min(C,αj+αi)\n",
    "    if(model.y[i] != model.y[j]):\n",
    "        L = max(0, model.alphas[j] - model.alphas[i])\n",
    "        H = min(model.C, model.C + model.alphas[j] - model.alphas[i])\n",
    "    else:\n",
    "        L = max(0, model.alphas[j] + model.alphas[i] - model.C)\n",
    "        H = min(model.C, model.alphas[j] + model.alphas[i])\n",
    "    if L == H:\n",
    "        return 0\n",
    "    # 计算样本i和j之间的相似性\n",
    "    ETA = 2.0 * model.kernelMat[i, j] - \\\n",
    "        model.kernelMat[i, i] - model.kernelMat[j, j]\n",
    "    if ETA >= 0:\n",
    "        return 0\n",
    "    # 更新αj\n",
    "    model.alphas[j] -= model.y[j] * (Ei - Ej) / ETA\n",
    "    # αj必须在边界内，因此在计算出新的αj后要对其进行新的裁剪\n",
    "    # if αj>H then αj=H\n",
    "    # if L<=αj<=H then αj=αj\n",
    "    # if αj>H then αj=H\n",
    "    if(model.alphas[j] > H):\n",
    "        model.alphas[j] = H\n",
    "    if(model.alphas[j] < L):\n",
    "        model.alphas[j] = L\n",
    "    # 如果本次更新几乎没有变化就返回\n",
    "    if abs(alpha_j_old - model.alphas[j]) < 0.00001:\n",
    "        return 0\n",
    "    # 更新αi  αi=αi+yi*yj*(aj_old-aj)\n",
    "    model.alphas[i] += model.y[i] * model.y[j] * \\\n",
    "        (alpha_j_old - model.alphas[j])\n",
    "    # 更新阀值b\n",
    "    # b1=b-Ei-yi(αi-αi_old)<xi,xi>-yj(αj-αj_old)<xi,xj>\n",
    "    # b2=b-Ej-yi(αi-αi_old)<xi,xj>-yj(αj-αj_old)<xj,xj>\n",
    "    b1 = model.b - Ei - model.y[i] * (model.alphas[i] - alpha_i_old) * model.kernelMat[\n",
    "        i, i] - model.y[j] * (model.alphas[j] - alpha_j_old) * model.kernelMat[i, j]\n",
    "    b2 = model.b - Ej - model.y[i] * (model.alphas[i] - alpha_i_old) * model.kernelMat[\n",
    "        i, j] - model.y[j] * (model.alphas[j] - alpha_j_old) * model.kernelMat[j, j]\n",
    "    # if 0<αi<C then b=b1\n",
    "    # if 0<αj<C then b=b2\n",
    "    # if other then b=(b1+b2)/2\n",
    "    if (0 < model.alphas[i]) and (model.alphas[i] < model.C):\n",
    "        model.b = b1\n",
    "    elif (0 < model.alphas[j]) and (model.alphas[j] < model.C):\n",
    "        model.b = b2\n",
    "    else:\n",
    "        model.b = (b1 + b2) / 2.0\n",
    "    updateError(model, i)\n",
    "    updateError(model, j)\n",
    "    return 1\n",
    "\n",
    "\n",
    "def updateError(model, j):\n",
    "    E = calcError(model, j)\n",
    "    model.errorCache[j] = [1, E]\n",
    "\n",
    "\n",
    "def selectAlpha(model, i, Ei):\n",
    "    rnd.seed(0)\n",
    "    # [1, Ei] 1表示已经被优化\n",
    "    model.errorCache[i] = [1, Ei]\n",
    "    # nonzero()将布尔数组转换成整数数组\n",
    "    # nonzero(x)返回x集合中为True的元素下标集合\n",
    "    # 用于找出所有符合KKT条件的乘子的E\n",
    "    Alphalist = np.nonzero(model.errorCache[:, 0].A)[0]\n",
    "    maxStep = 0\n",
    "    j = 0\n",
    "    Ej = 0\n",
    "    # 选择误差步长最大的最为αj\n",
    "    if(len(Alphalist) > 1):\n",
    "        # k 不能等于i和j\n",
    "        for k in Alphalist:\n",
    "            if k == i:\n",
    "                continue\n",
    "            Ek = calcError(model, k)\n",
    "            if abs(Ek - Ei) > maxStep:\n",
    "                maxStep = abs(Ek - Ei)\n",
    "                j = k\n",
    "                Ej = Ek\n",
    "    # 如果是第一次 随机选择αj\n",
    "    else:\n",
    "        j = i\n",
    "        while j == i:\n",
    "            j = rnd.randint(0, model.numSamples - 1)\n",
    "        Ej = calcError(model, j)\n",
    "    return j, Ej\n",
    "\n",
    "\n",
    "def calcError(model, i):\n",
    "    f = np.multiply(model.alphas, model.y).T * model.kernelMat[:, i] + model.b\n",
    "    return (f - model.y[i])\n",
    "\n",
    "\n",
    "def FitKKT(model, i):\n",
    "    E = calcError(model, i)\n",
    "    # 约束条件1：0<=α<=C\n",
    "    # 约束条件2：必须满足KKT条件\n",
    "    #     1-1、if yf>=1 then α==0\n",
    "    #     1-2、if yf<=1 then α==C\n",
    "    #     1-3、if yf==1 then 0<α<C\n",
    "    #     因此可以得到不满足KKT的条件\n",
    "    #     2-1、if yf>=1 then α>0\n",
    "    #     2-2、if yf<=1 then α<C\n",
    "    #     2-3、if yf==1 then α==0 or α==C\n",
    "    #     仔细考虑2-1，当yf=1 then α>0,符合1-3\n",
    "    #     仔细考虑2-1，当yf=1 then α<C,符合1-3\n",
    "    #     仔细考虑2-3，符合1-1和1-2\n",
    "    #     因此得到：\n",
    "    #     3-1、if yf>1 then α>0\n",
    "    #     3-2、if yf<1 then α<C\n",
    "    #     预测值与真实值之差 E=f-y\n",
    "    #     yE=yf-yy because y∈(-1,1) so yE=fy-1\n",
    "    #     4-1、if yE>0 then α>0\n",
    "    #     4-2、if yE<0 then α<C\n",
    "    #     我们在这里加入一个松弛变量Toler：\n",
    "    #     1、if yE>Toler then α>0\n",
    "    #     2、if yE<-Toler then α<C\n",
    "    if((model.y[i] * E < -Toler and model.alphas[i] < model.C)\n",
    "       or (model.y[i] * E > Toler and model.alphas[i] > 0)):\n",
    "        return 1\n",
    "    else:\n",
    "        return 0\n",
    "\n",
    "\n",
    "def SVMPredict(model, x, y):\n",
    "    n = x.shape[0]\n",
    "    # 加入核函数之后，新的fx=yi*ai*k<x,xi>+b\n",
    "    # 又因为alphas大多数都为0，因此值用计算不为0的就可以\n",
    "    supportVectorsIndex = np.nonzero(\n",
    "        (model.alphas.A > 0) * (model.alphas.A < model.C))[0]\n",
    "    supportVectors = model.x[supportVectorsIndex]\n",
    "    supportVectorLabels = model.y[supportVectorsIndex]\n",
    "    supportVectorAlphas = model.alphas[supportVectorsIndex]\n",
    "    matchCount = 0\n",
    "    for i in range(n):\n",
    "        kernelValue = calcKernelValue(\n",
    "            supportVectors, x[i, :], model.kernelType, n)\n",
    "        predict = kernelValue.T * \\\n",
    "            np.multiply(supportVectorLabels, supportVectorAlphas) + model.b\n",
    "        if np.sign(predict) == np.sign(y[i]):\n",
    "            matchCount += 1\n",
    "    accuracy = float(matchCount) / n\n",
    "    return accuracy\n",
    "\n",
    "\n",
    "def Draw(model):\n",
    "    # 画出所有的点\n",
    "    for i in range(model.numSamples):\n",
    "        if model.y[i] == -1:\n",
    "            plt.plot(model.x[i, 0], model.x[i, 1], 'or')\n",
    "        elif model.y[i] == 1:\n",
    "            plt.plot(model.x[i, 0], model.x[i, 1], 'ob')\n",
    "    # 计算支持向量\n",
    "    supportVectorsIndex = np.nonzero(\n",
    "        (model.alphas.A > 0) * (model.alphas.A < model.C))[0]\n",
    "\n",
    "    # 画出分类线\n",
    "    w = np.zeros((2, 1))\n",
    "    # 求wi=yi*ai*xi i=0,1,2...n\n",
    "    for i in supportVectorsIndex:\n",
    "        w += np.multiply(model.alphas[i] * model.y[i], model.x[i, :].T)\n",
    "    min_x = min(model.x[:, 0])[0, 0]\n",
    "    max_x = max(model.x[:, 0])[0, 0]\n",
    "    y_min_x = float(-model.b - w[0] * min_x) / w[1]\n",
    "    y_max_x = float(-model.b - w[0] * max_x) / w[1]\n",
    "    plt.plot([min_x, max_x], [y_min_x, y_max_x], '-g')\n",
    "    \n",
    "    return plt\n",
    "   "
   ]
  },
  {
   "cell_type": "markdown",
   "metadata": {},
   "source": [
    "**设置模型参数,并生成需要的数据:**"
   ]
  },
  {
   "cell_type": "code",
   "execution_count": 9,
   "metadata": {},
   "outputs": [],
   "source": [
    "# 设置模型参数\n",
    "C = 0.6\n",
    "IterNum = 20\n",
    "Toler = 0.001\n",
    "x, y = genData()\n",
    "# 分理出钓鱼岛的数据\n",
    "p_x = x[y==0]\n",
    "p_y = y[y==0]\n",
    "p_x = np.mat(p_x)\n",
    "p_y = np.mat(p_y).T\n",
    "# 分离出正常的训练数据集\n",
    "x = x[y!=0]\n",
    "y = y[y!=0]\n",
    "x = np.mat(x)\n",
    "y = np.mat(y).T"
   ]
  },
  {
   "cell_type": "markdown",
   "metadata": {},
   "source": [
    "**训练模型并对钓鱼岛进行预测:**"
   ]
  },
  {
   "cell_type": "code",
   "execution_count": 10,
   "metadata": {
    "scrolled": false
   },
   "outputs": [
    {
     "name": "stdout",
     "output_type": "stream",
     "text": [
      "2\n",
      "0.0\n"
     ]
    },
    {
     "data": {
      "image/png": "[encoded data removed]",
      "text/plain": [
       "<Figure size 432x288 with 1 Axes>"
      ]
     },
     "metadata": {
      "needs_background": "light"
     },
     "output_type": "display_data"
    }
   ],
   "source": [
    "# 训练模型\n",
    "model = SVMtrain(x, y, C, Toler, IterNum, kernelType=(\"linear\", 1))\n",
    "\n",
    "# # 测试数据\n",
    "predict = SVMPredict(model, p_x, p_y)\n",
    "print(predict)\n",
    "# # 数据展示\n",
    "plt = Draw(model)\n",
    "plt.xlim(x[:,0].min()-2,x[:,0].max()+2)\n",
    "plt.ylim(x[:,1].min()-2,x[:,1].max()+2)\n",
    "plt.plot(p_x[0,0],p_x[0,1],'g+')\n",
    "plt.show()"
   ]
  },
  {
   "cell_type": "markdown",
   "metadata": {},
   "source": [
    "## 总结"
   ]
  },
  {
   "cell_type": "markdown",
   "metadata": {},
   "source": [
    "通过观察两种方法所绘制的图像可以发现,采用梯度下降的方法时,数据的scale很大时,分类器不能很好的工作,通过对于数据的归一化处理,将数据scale变小,在运用SVM模型的时候,可以进行较好的分类预测.\n",
    "如果采用SMO算法,观察发现,虽然在和算法的实现上较为复杂,但是对于scale较大的数据仍然能够很好的适应,并进行分类预测.\n",
    "\n",
    "对于预测钓鱼岛的归属问题,两种方法在该数据集上都能做出钓鱼岛数据中国的预测."
   ]
  }
 ],
 "metadata": {
  "anaconda-cloud": {},
  "kernelspec": {
   "display_name": "Python 3",
   "language": "python",
   "name": "python3"
  },
  "language_info": {
   "codemirror_mode": {
    "name": "ipython",
    "version": 3
   },
   "file_extension": ".py",
   "mimetype": "text/x-python",
   "name": "python",
   "nbconvert_exporter": "python",
   "pygments_lexer": "ipython3",
   "version": "3.5.6"
  }
 },
 "nbformat": 4,
 "nbformat_minor": 1
}
