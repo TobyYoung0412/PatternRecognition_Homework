{
 "cells": [
  {
   "cell_type": "code",
   "execution_count": 1,
   "metadata": {},
   "outputs": [],
   "source": [
    "import numpy as np\n",
    "import matplotlib.pyplot as plt\n",
    "import numpy.random as rnd\n",
    "from numpy.linalg import cholesky\n",
    "%matplotlib inline"
   ]
  },
  {
   "cell_type": "code",
   "execution_count": 2,
   "metadata": {
    "scrolled": true
   },
   "outputs": [],
   "source": [
    "def genData(M, N = 100):\n",
    "    rnd.seed(0)\n",
    "    Sigma = np.array([[1, 0], [0, 1]])\n",
    "    R = cholesky(Sigma)\n",
    "    \n",
    "    mu = np.array([[-M, 0]])\n",
    "    s1 = np.dot(np.random.randn(N, 2), R) + mu\n",
    "    mu = np.array([[M, 0]])\n",
    "    s2 = np.dot(np.random.randn(N, 2), R) + mu\n",
    "    \n",
    "    return (s1,s2)"
   ]
  },
  {
   "cell_type": "code",
   "execution_count": 3,
   "metadata": {
    "scrolled": true
   },
   "outputs": [],
   "source": [
    "def train(w, x, y):\n",
    "    for i in range(0,x.shape[0]):\n",
    "        flag = np.sign(w[0] + np.dot(w[1:],x[i].T))\n",
    "        if flag != y:\n",
    "            w[0] += y\n",
    "            w[1:] += y * x[i]\n",
    "    return w"
   ]
  },
  {
   "cell_type": "code",
   "execution_count": 4,
   "metadata": {},
   "outputs": [
    {
     "data": {
      "image/png": "[encoded data removed]",
      "text/plain": [
       "<Figure size 432x288 with 1 Axes>"
      ]
     },
     "metadata": {
      "needs_background": "light"
     },
     "output_type": "display_data"
    }
   ],
   "source": [
    "N = 100\n",
    "mean = 5\n",
    "(s1, s2) = genData(mean, N)\n",
    "w = np.zeros(s1.shape[1] + 1)\n",
    "\n",
    "train(w, s1, -1)\n",
    "train(w, s2, +1)\n",
    "\n",
    "y = np.linspace(-3,3)\n",
    "x = (w[0] + w[2] * y)/w[1]\n",
    "\n",
    "\n",
    "plt.plot(s1[:,0],s1[:,1],'+')\n",
    "plt.plot(s2[:,0],s2[:,1],'o')\n",
    "plt.plot(x,y)\n",
    "plt.show()\n"
   ]
  },
  {
   "cell_type": "code",
   "execution_count": null,
   "metadata": {},
   "outputs": [],
   "source": []
  }
 ],
 "metadata": {
  "kernelspec": {
   "display_name": "Python 3",
   "language": "python",
   "name": "python3"
  },
  "language_info": {
   "codemirror_mode": {
    "name": "ipython",
    "version": 3
   },
   "file_extension": ".py",
   "mimetype": "text/x-python",
   "name": "python",
   "nbconvert_exporter": "python",
   "pygments_lexer": "ipython3",
   "version": "3.5.6"
  }
 },
 "nbformat": 4,
 "nbformat_minor": 2
}
